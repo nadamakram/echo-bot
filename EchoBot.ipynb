{
 "cells": [
  {
   "cell_type": "markdown",
   "metadata": {},
   "source": [
    "## Description\n",
    "Basic dumb echo bot. It repeats what the user says."
   ]
  },
  {
   "cell_type": "code",
   "execution_count": 1,
   "metadata": {},
   "outputs": [],
   "source": [
    "user_template = \"USER: {0}\"\n",
    "bot_template = \"BOT: {0}\""
   ]
  },
  {
   "cell_type": "code",
   "execution_count": 2,
   "metadata": {},
   "outputs": [
    {
     "name": "stdout",
     "output_type": "stream",
     "text": [
      "Hey I can hear you, you said: Hello\n"
     ]
    }
   ],
   "source": [
    "#function respond to a user message\n",
    "def respond(message):\n",
    "    bot_message = \"Hey I can hear you, you said: \" + message\n",
    "    return bot_message\n",
    "\n",
    "print(respond(\"Hello\"))"
   ]
  },
  {
   "cell_type": "code",
   "execution_count": 3,
   "metadata": {},
   "outputs": [
    {
     "name": "stdout",
     "output_type": "stream",
     "text": [
      "USER: Hi, I am Nada\n",
      "BOT: Hey I can hear you, you said: Hi, I am Nada\n"
     ]
    }
   ],
   "source": [
    "#function to send message to the bot\n",
    "def send_message(message):\n",
    "    #print user's message\n",
    "    print(user_template.format(message))\n",
    "    #the bot respond to the message\n",
    "    response = respond(message)\n",
    "    print(bot_template.format(response))\n",
    "\n",
    "send_message(\"Hi, I am Nada\")"
   ]
  }
 ],
 "metadata": {
  "kernelspec": {
   "display_name": "Python 3",
   "language": "python",
   "name": "python3"
  },
  "language_info": {
   "codemirror_mode": {
    "name": "ipython",
    "version": 3
   },
   "file_extension": ".py",
   "mimetype": "text/x-python",
   "name": "python",
   "nbconvert_exporter": "python",
   "pygments_lexer": "ipython3",
   "version": "3.6.5"
  }
 },
 "nbformat": 4,
 "nbformat_minor": 2
}
